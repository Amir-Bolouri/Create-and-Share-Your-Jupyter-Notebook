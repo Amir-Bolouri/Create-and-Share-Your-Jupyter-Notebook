{
 "cells": [
  {
   "cell_type": "markdown",
   "id": "2e7d1b30",
   "metadata": {},
   "source": [
    "# My Jupyter Notebook on IBM Watson Studio"
   ]
  },
  {
   "cell_type": "markdown",
   "id": "df9e074a",
   "metadata": {},
   "source": [
    "**Amir**\n",
    "\n",
    "  Data guy"
   ]
  },
  {
   "cell_type": "markdown",
   "id": "5768b98c",
   "metadata": {},
   "source": [
    "*I am interested in data science because it is fun*"
   ]
  },
  {
   "cell_type": "markdown",
   "id": "356c1a58",
   "metadata": {},
   "source": [
    "### My code will print \"hello world\""
   ]
  },
  {
   "cell_type": "code",
   "execution_count": 5,
   "id": "0697e0d3",
   "metadata": {},
   "outputs": [
    {
     "name": "stdout",
     "output_type": "stream",
     "text": [
      "Hello World\n"
     ]
    }
   ],
   "source": [
    "print (\"Hello World\")"
   ]
  },
  {
   "cell_type": "markdown",
   "id": "2cfac819",
   "metadata": {},
   "source": [
    "1. list\n",
    "2. buy and sell\n",
    "3. read and listen\n",
    "\n",
    "___\n",
    "\n",
    "~~ strikethrough ~~"
   ]
  },
  {
   "cell_type": "code",
   "execution_count": null,
   "id": "e87e61c3",
   "metadata": {},
   "outputs": [],
   "source": []
  }
 ],
 "metadata": {
  "kernelspec": {
   "display_name": "Python 3 (ipykernel)",
   "language": "python",
   "name": "python3"
  },
  "language_info": {
   "codemirror_mode": {
    "name": "ipython",
    "version": 3
   },
   "file_extension": ".py",
   "mimetype": "text/x-python",
   "name": "python",
   "nbconvert_exporter": "python",
   "pygments_lexer": "ipython3",
   "version": "3.9.7"
  }
 },
 "nbformat": 4,
 "nbformat_minor": 5
}
